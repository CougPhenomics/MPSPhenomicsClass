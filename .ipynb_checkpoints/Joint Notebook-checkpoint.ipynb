{
 "cells": [
  {
   "cell_type": "markdown",
   "metadata": {},
   "source": [
    "# Compute Photosynthetic Parameters"
   ]
  },
  {
   "cell_type": "code",
   "execution_count": 1,
   "metadata": {
    "slideshow": {
     "slide_type": "slide"
    }
   },
   "outputs": [],
   "source": [
    "from plantcv import plantcv as pcv\n",
    "import numpy as np\n",
    "import os\n",
    "import warnings\n",
    "import importlib\n",
    "warnings.filterwarnings(\"ignore\", module=\"matplotlib\")\n",
    "warnings.filterwarnings(\"ignore\", module='plotnine')\n"
   ]
  },
  {
   "cell_type": "code",
   "execution_count": 2,
   "metadata": {
    "slideshow": {
     "slide_type": "subslide"
    }
   },
   "outputs": [],
   "source": [
    "pcv.params.debug=None"
   ]
  },
  {
   "cell_type": "markdown",
   "metadata": {
    "slideshow": {
     "slide_type": "slide"
    }
   },
   "source": [
    "It can be useful to pull up the help pages for a module you'll be using alot like PlantCV. https://plantcv.readthedocs.io"
   ]
  },
  {
   "cell_type": "markdown",
   "metadata": {
    "slideshow": {
     "slide_type": "slide"
    }
   },
   "source": [
    "# Read Images"
   ]
  },
  {
   "cell_type": "markdown",
   "metadata": {
    "slideshow": {
     "slide_type": "subslide"
    }
   },
   "source": [
    "Image id # from experiment:\n",
    "\n",
    "- Fo_id = '0000'\n",
    "- Fm_id = '0007'\n",
    "- FsLss_id = '0084'\n",
    "- FmpLss_id = '0085'\n"
   ]
  },
  {
   "cell_type": "code",
   "execution_count": 3,
   "metadata": {
    "slideshow": {
     "slide_type": "subslide"
    }
   },
   "outputs": [],
   "source": [
    "Fo,_,_ = pcv.readimage('data/020320 images/GroupA/2-3-2020_Time_1811_Pos_169x1796_0000.jpg')\n",
    "Fm,_,_ = pcv.readimage('data/020320 images/GroupA/2-3-2020_Time_1811_Pos_169x1796_0007.jpg')\n",
    "FsLss,_,_ = pcv.readimage('data/020320 images/GroupA/2-3-2020_Time_1811_Pos_169x1796_0084.jpg')\n",
    "FmpLss,_,_ = pcv.readimage('data/020320 images/GroupA/2-3-2020_Time_1811_Pos_169x1796_0085.jpg')"
   ]
  },
  {
   "cell_type": "markdown",
   "metadata": {},
   "source": [
    "# Mask"
   ]
  },
  {
   "cell_type": "code",
   "execution_count": null,
   "metadata": {},
   "outputs": [],
   "source": []
  },
  {
   "cell_type": "code",
   "execution_count": null,
   "metadata": {},
   "outputs": [],
   "source": []
  },
  {
   "cell_type": "code",
   "execution_count": null,
   "metadata": {},
   "outputs": [],
   "source": []
  },
  {
   "cell_type": "code",
   "execution_count": null,
   "metadata": {},
   "outputs": [],
   "source": []
  },
  {
   "cell_type": "markdown",
   "metadata": {},
   "source": [
    "# Apply Mask and Compute FvFm"
   ]
  },
  {
   "cell_type": "code",
   "execution_count": null,
   "metadata": {},
   "outputs": [],
   "source": [
    "# SInce fvfm is a decimal from 0-1 we need to create a floating point array of 0s. remember Fm is 'uint8' whihc means unsigned 8 bit integer. The only valid values are 0-255\n",
    "out_flt = np.zeros_like(Fm, dtype='float')"
   ]
  },
  {
   "cell_type": "code",
   "execution_count": null,
   "metadata": {},
   "outputs": [],
   "source": [
    "# fv/fm = (Fm-Fo)/Fm\n",
    "# we can divide arrays by element using np.divide. \n",
    "# np.divide(numerator, denominator, out = background values (use copy to avoid overwriting the original), where = conditions where the calc should occur.)\n",
    "Fv = np.subtract(Fm,Fo, out=out_flt.copy(), where=finalmask>0)\n",
    "FvFm = np.divide(Fv,Fm, out=out_flt.copy(), where=np.logical_and(finalmask>0, Fo>0))\n",
    "fvfm_fig = pcv.visualize.pseudocolor(FvFm,\n",
    "                        mask=finalmask,\n",
    "                        cmap='viridis',\n",
    "                        min_value=0,\n",
    "                        max_value=1)\n",
    "fvfm_fig.set_size_inches(6, 6, forward=False)\n",
    "fvfm_fig.savefig('output/example/example_fvfm.png',\n",
    "                bbox_inches='tight',\n",
    "                dpi=150)\n",
    "fvfm_fig.clf()"
   ]
  },
  {
   "cell_type": "markdown",
   "metadata": {},
   "source": [
    "Fv/Fm doesn't vary that much in these mutants. You'll need to compute NPQ to determine which plant is which genotype."
   ]
  }
 ],
 "metadata": {
  "kernelspec": {
   "display_name": "Python [conda env:plantcv]",
   "language": "python",
   "name": "conda-env-plantcv-py"
  },
  "language_info": {
   "codemirror_mode": {
    "name": "ipython",
    "version": 3
   },
   "file_extension": ".py",
   "mimetype": "text/x-python",
   "name": "python",
   "nbconvert_exporter": "python",
   "pygments_lexer": "ipython3",
   "version": "3.7.5"
  }
 },
 "nbformat": 4,
 "nbformat_minor": 2
}
